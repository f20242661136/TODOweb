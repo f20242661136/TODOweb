{
 "cells": [
  {
   "cell_type": "code",
   "execution_count": null,
   "id": "4f6af008",
   "metadata": {},
   "outputs": [
    {
     "ename": "",
     "evalue": "",
     "output_type": "error",
     "traceback": [
      "\u001b[1;31mRunning cells with 'Python 3.13.9' requires the ipykernel package.\n",
      "\u001b[1;31m<a href='command:jupyter.createPythonEnvAndSelectController'>Create a Python Environment</a> with the required packages.\n",
      "\u001b[1;31mOr install 'ipykernel' using the command: 'c:/Users/RashidAli/AppData/Local/Microsoft/WindowsApps/python3.13.exe -m pip install ipykernel -U --user --force-reinstall'"
     ]
    }
   ],
   "source": [
    "from IPython.display import display, HTML\n",
    "\n",
    "# Mock chat history for demonstration\n",
    "class ChatHistory:\n",
    "    def __init__(self):\n",
    "        self.messages = []\n",
    "    def add_user_message(self, message):\n",
    "        self.messages.append({\"role\": \"user\", \"content\": message})\n",
    "\n",
    "async def main():\n",
    "    # Define the chat history\n",
    "    chat_history = ChatHistory()\n",
    "\n",
    "    # Respond to user input\n",
    "    user_inputs = [\n",
    "        \"Plan me a day trip.\",\n",
    "        \"I don't like that destination. Plan another vacation.\"\n",
    "    ]\n",
    "\n",
    "    html_output = \"\"\n",
    "\n",
    "    for user_input in user_inputs:\n",
    "        # Add the user input to the chat history\n",
    "        chat_history.add_user_message(user_input)\n",
    "\n",
    "        # Build HTML for display\n",
    "        html_output += f\"\"\"\n",
    "        <div style='margin-bottom:10px'>\n",
    "            <div style='font-weight:bold'>User:</div>\n",
    "            <div style='margin-left:28px'>{user_input}</div>\n",
    "        </div>\n",
    "        \"\"\"\n",
    "\n",
    "    # Display the chat in the notebook\n",
    "    display(HTML(html_output))\n",
    "\n",
    "# Run the async function\n",
    "import asyncio\n",
    "await main()\n"
   ]
  }
 ],
 "metadata": {
  "kernelspec": {
   "display_name": "Python 3",
   "language": "python",
   "name": "python3"
  },
  "language_info": {
   "name": "python",
   "version": "3.13.9"
  }
 },
 "nbformat": 4,
 "nbformat_minor": 5
}
